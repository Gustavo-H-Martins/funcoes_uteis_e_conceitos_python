{
 "cells": [
  {
   "cell_type": "code",
   "execution_count": 1,
   "metadata": {},
   "outputs": [],
   "source": [
    "adicionais = [\n",
    "        \"//div[@id='botstuff']//div[@class='MjjYud']/div/div/div[1]/div/div/span/a/div/div/div/span\",\n",
    "        \"//div[@id='botstuff']//div[@class='MjjYud']/div/div/div[1]/div/div/span/a//h3\",\n",
    "        \"//div[@id='botstuff']//div[@class='MjjYud']/div/div/div[2]/div/span[last()]\",\n",
    "        \"//div[@id='botstuff']//div[@class='MjjYud']/div/div/div[1]/div/div/span/a\"\n",
    "    ],"
   ]
  },
  {
   "cell_type": "code",
   "execution_count": 2,
   "metadata": {},
   "outputs": [],
   "source": [
    "colunas_extracao = {\n",
    "    'organico': [\n",
    "        \"//div[@id='search']//div[@class='MjjYud']/div/div/div[1]/div/div/span/a/div/div/div/span\",\n",
    "        \"//div[@id='search']//div[@class='MjjYud']/div/div/div[1]/div/div/span/a//h3\",\n",
    "        \"//div[@id='search']//div[@class='MjjYud']/div/div/div[2]/div/span[last()]\",\n",
    "        \"//div[@id='search']//div[@class='MjjYud']/div/div/div[1]/div/div/span/a\"\n",
    "    ],   \n",
    "    'patrocinado': [\n",
    "        \"//div[@id='tadsb']//div[@class='vdQmEd fP1Qef xpd EtOod pkphOe']/div[1]/a/div[2]/span[1]/span[2]/span[1]/div/span\",\n",
    "        \"//div[@id='tadsb']//div[@class='vdQmEd fP1Qef xpd EtOod pkphOe']/div[1]/a/div[1]/span\",\n",
    "        \"//div[@id='tadsb']//div[@class='vdQmEd fP1Qef xpd EtOod pkphOe']/div[2]/div/div\",\n",
    "        \"//div[@id='tadsb']//div[@class='vdQmEd fP1Qef xpd EtOod pkphOe']/div[1]/a\"\n",
    "    ]\n",
    "    }"
   ]
  },
  {
   "cell_type": "code",
   "execution_count": 3,
   "metadata": {},
   "outputs": [
    {
     "data": {
      "text/plain": [
       "{'organico': [\"//div[@id='search']//div[@class='MjjYud']/div/div/div[1]/div/div/span/a/div/div/div/span\",\n",
       "  \"//div[@id='search']//div[@class='MjjYud']/div/div/div[1]/div/div/span/a//h3\",\n",
       "  \"//div[@id='search']//div[@class='MjjYud']/div/div/div[2]/div/span[last()]\",\n",
       "  \"//div[@id='search']//div[@class='MjjYud']/div/div/div[1]/div/div/span/a\"],\n",
       " 'patrocinado': [\"//div[@id='tadsb']//div[@class='vdQmEd fP1Qef xpd EtOod pkphOe']/div[1]/a/div[2]/span[1]/span[2]/span[1]/div/span\",\n",
       "  \"//div[@id='tadsb']//div[@class='vdQmEd fP1Qef xpd EtOod pkphOe']/div[1]/a/div[1]/span\",\n",
       "  \"//div[@id='tadsb']//div[@class='vdQmEd fP1Qef xpd EtOod pkphOe']/div[2]/div/div\",\n",
       "  \"//div[@id='tadsb']//div[@class='vdQmEd fP1Qef xpd EtOod pkphOe']/div[1]/a\"],\n",
       " 'adicionais': ([\"//div[@id='botstuff']//div[@class='MjjYud']/div/div/div[1]/div/div/span/a/div/div/div/span\",\n",
       "   \"//div[@id='botstuff']//div[@class='MjjYud']/div/div/div[1]/div/div/span/a//h3\",\n",
       "   \"//div[@id='botstuff']//div[@class='MjjYud']/div/div/div[2]/div/span[last()]\",\n",
       "   \"//div[@id='botstuff']//div[@class='MjjYud']/div/div/div[1]/div/div/span/a\"],)}"
      ]
     },
     "execution_count": 3,
     "metadata": {},
     "output_type": "execute_result"
    }
   ],
   "source": [
    "colunas_extracao[\"adicionais\"] = adicionais\n",
    "\n",
    "colunas_extracao"
   ]
  },
  {
   "cell_type": "code",
   "execution_count": 6,
   "metadata": {},
   "outputs": [
    {
     "data": {
      "text/plain": [
       "9"
      ]
     },
     "execution_count": 6,
     "metadata": {},
     "output_type": "execute_result"
    }
   ],
   "source": [
    "clicks = range(0, 10)\n",
    "\n",
    "clicks[-1]"
   ]
  }
 ],
 "metadata": {
  "kernelspec": {
   "display_name": "crawler_api-CRgKIxAz",
   "language": "python",
   "name": "python3"
  },
  "language_info": {
   "codemirror_mode": {
    "name": "ipython",
    "version": 3
   },
   "file_extension": ".py",
   "mimetype": "text/x-python",
   "name": "python",
   "nbconvert_exporter": "python",
   "pygments_lexer": "ipython3",
   "version": "3.10.10"
  }
 },
 "nbformat": 4,
 "nbformat_minor": 2
}
