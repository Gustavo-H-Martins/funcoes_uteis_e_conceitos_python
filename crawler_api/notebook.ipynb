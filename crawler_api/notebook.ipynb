{
 "cells": [
  {
   "cell_type": "code",
   "execution_count": 1,
   "metadata": {},
   "outputs": [
    {
     "name": "stderr",
     "output_type": "stream",
     "text": [
      "INFO    ||2024-03-12 18:57:05||ler_lista_raspagem||49||Iniciando....\n",
      "INFO    ||2024-03-12 18:57:05||ler_json    ||49||Iniciando....\n",
      "INFO    ||2024-03-12 18:57:05||ler_json    ||52||Finalizando.... \n",
      "INFO    ||2024-03-12 18:57:05||controler:controler||27||Retornando um total de 2 de itens para serem raspados!\n",
      "INFO    ||2024-03-12 18:57:05||ler_lista_raspagem||52||Finalizando.... \n"
     ]
    },
    {
     "name": "stdout",
     "output_type": "stream",
     "text": [
      "['https://www.google.com/maps/place/Games Safari/@-9.6711986,-99.7670981,3z/data=!4m6!3m5!1s0xa9b689d71ba3eed9:0xb46d8c8110188002!8m2!3d-14.4095262!4d-51.31668!16s/g/11rx2_lj15?hl=pt-BR', 'https://www.google.com/maps/place/Is.Land | Tricot/@-27.5705975,-48.7999495,10z/data=!3m1!4b1!4m6!3m5!1s0x952747df2ee38217:0x18f915f1e1cbdfe8!8m2!3d-27.5715954!4d-48.4702792!16s/g/11ghrc1j8h?entry=ttu']\n"
     ]
    }
   ],
   "source": [
    "from controler import ler_lista_raspagem\n",
    "\n",
    "print(ler_lista_raspagem())"
   ]
  },
  {
   "cell_type": "code",
   "execution_count": null,
   "metadata": {},
   "outputs": [],
   "source": [
    "def escrever_lista_raspagem(texto:str= \"\"):\n",
    "    \"\"\"Realiza a escrita de dados dentro do arquivo de configurações de lista de raspagem\"\"\"\n",
    "\n",
    "    with open(file=CRAWLER_LIST_PATH, mode=\"+a\") as f:\n",
    "        f.write(f\"{texto.strip()}\\n\")\n",
    "        f.close()\n",
    "    \n",
    "    logger.info(f\"Salvo linha com valor {texto}\")"
   ]
  }
 ],
 "metadata": {
  "kernelspec": {
   "display_name": "crawler_api-CRgKIxAz",
   "language": "python",
   "name": "python3"
  },
  "language_info": {
   "codemirror_mode": {
    "name": "ipython",
    "version": 3
   },
   "file_extension": ".py",
   "mimetype": "text/x-python",
   "name": "python",
   "nbconvert_exporter": "python",
   "pygments_lexer": "ipython3",
   "version": "3.10.10"
  }
 },
 "nbformat": 4,
 "nbformat_minor": 2
}
