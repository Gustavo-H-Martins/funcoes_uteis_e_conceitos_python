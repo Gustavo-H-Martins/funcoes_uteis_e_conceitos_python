{
 "cells": [
  {
   "cell_type": "code",
   "execution_count": 1,
   "metadata": {},
   "outputs": [
    {
     "name": "stderr",
     "output_type": "stream",
     "text": [
      "INFO    ||2024-03-03 16:28:13||ler_lista_raspagem||49||Iniciando....\n",
      "INFO    ||2024-03-03 16:28:13||controler:controler||18||Retornando um total de 2 de itens para serem raspados!\n",
      "INFO    ||2024-03-03 16:28:13||ler_lista_raspagem||52||Finalizando.... \n"
     ]
    }
   ],
   "source": [
    "from controler import ler_lista_raspagem\n",
    "\n",
    "lista = ler_lista_raspagem()"
   ]
  },
  {
   "cell_type": "code",
   "execution_count": 2,
   "metadata": {},
   "outputs": [
    {
     "data": {
      "text/plain": [
       "['https://www.google.com/maps/place/Games+Safari/@-9.6711986,-99.7670981,3z/data=!4m6!3m5!1s0xa9b689d71ba3eed9:0xb46d8c8110188002!8m2!3d-14.4095262!4d-51.31668!16s%2Fg%2F11rx2_lj15?hl=pt-BR&entry=ttu\\n',\n",
       " 'https://www.google.com/maps/place/Is.Land+%7C+Tricot/@-27.5705975,-48.7999495,10z/data=!3m1!4b1!4m6!3m5!1s0x952747df2ee38217:0x18f915f1e1cbdfe8!8m2!3d-27.5715954!4d-48.4702792!16s%2Fg%2F11ghrc1j8h?entry=ttu\\n']"
      ]
     },
     "execution_count": 2,
     "metadata": {},
     "output_type": "execute_result"
    }
   ],
   "source": [
    "lista"
   ]
  }
 ],
 "metadata": {
  "kernelspec": {
   "display_name": "crawler_api-CRgKIxAz",
   "language": "python",
   "name": "python3"
  },
  "language_info": {
   "codemirror_mode": {
    "name": "ipython",
    "version": 3
   },
   "file_extension": ".py",
   "mimetype": "text/x-python",
   "name": "python",
   "nbconvert_exporter": "python",
   "pygments_lexer": "ipython3",
   "version": "3.10.10"
  }
 },
 "nbformat": 4,
 "nbformat_minor": 2
}
