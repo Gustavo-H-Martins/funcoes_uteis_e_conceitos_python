{
 "cells": [
  {
   "cell_type": "code",
   "execution_count": 1,
   "metadata": {},
   "outputs": [
    {
     "name": "stderr",
     "output_type": "stream",
     "text": [
      "INFO    ||2024-03-03 23:10:20||ler_lista_raspagem||49||Iniciando....\n",
      "INFO    ||2024-03-03 23:10:20||controler:controler||19||Retornando um total de 2 de itens para serem raspados!\n",
      "INFO    ||2024-03-03 23:10:20||ler_lista_raspagem||52||Finalizando.... \n"
     ]
    }
   ],
   "source": [
    "from controler import ler_lista_raspagem\n",
    "\n",
    "lista = ler_lista_raspagem()"
   ]
  },
  {
   "cell_type": "code",
   "execution_count": 2,
   "metadata": {},
   "outputs": [
    {
     "data": {
      "text/plain": [
       "['Games+Safari', 'Is.Land+%7C+Tricot']"
      ]
     },
     "execution_count": 2,
     "metadata": {},
     "output_type": "execute_result"
    }
   ],
   "source": [
    "lista"
   ]
  }
 ],
 "metadata": {
  "kernelspec": {
   "display_name": "crawler_api-CRgKIxAz",
   "language": "python",
   "name": "python3"
  },
  "language_info": {
   "codemirror_mode": {
    "name": "ipython",
    "version": 3
   },
   "file_extension": ".py",
   "mimetype": "text/x-python",
   "name": "python",
   "nbconvert_exporter": "python",
   "pygments_lexer": "ipython3",
   "version": "3.10.10"
  }
 },
 "nbformat": 4,
 "nbformat_minor": 2
}
